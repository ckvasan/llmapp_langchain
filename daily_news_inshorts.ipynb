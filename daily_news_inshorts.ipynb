{
 "cells": [
  {
   "cell_type": "code",
   "execution_count": 1,
   "id": "0c8b29ef",
   "metadata": {},
   "outputs": [
    {
     "name": "stdout",
     "output_type": "stream",
     "text": [
      "Requirement already satisfied: langchain in d:\\ai\\software\\anaconda3\\lib\\site-packages (0.1.11)\n",
      "Requirement already satisfied: PyYAML>=5.3 in d:\\ai\\software\\anaconda3\\lib\\site-packages (from langchain) (6.0)\n",
      "Requirement already satisfied: SQLAlchemy<3,>=1.4 in d:\\ai\\software\\anaconda3\\lib\\site-packages (from langchain) (2.0.0)\n",
      "Requirement already satisfied: aiohttp<4.0.0,>=3.8.3 in d:\\ai\\software\\anaconda3\\lib\\site-packages (from langchain) (3.8.3)\n",
      "Requirement already satisfied: dataclasses-json<0.7,>=0.5.7 in d:\\ai\\software\\anaconda3\\lib\\site-packages (from langchain) (0.6.4)\n",
      "Requirement already satisfied: jsonpatch<2.0,>=1.33 in d:\\ai\\software\\anaconda3\\lib\\site-packages (from langchain) (1.33)\n",
      "Requirement already satisfied: langchain-community<0.1,>=0.0.25 in d:\\ai\\software\\anaconda3\\lib\\site-packages (from langchain) (0.0.27)\n",
      "Requirement already satisfied: langchain-core<0.2,>=0.1.29 in d:\\ai\\software\\anaconda3\\lib\\site-packages (from langchain) (0.1.30)\n",
      "Requirement already satisfied: langchain-text-splitters<0.1,>=0.0.1 in d:\\ai\\software\\anaconda3\\lib\\site-packages (from langchain) (0.0.1)\n",
      "Requirement already satisfied: langsmith<0.2.0,>=0.1.17 in d:\\ai\\software\\anaconda3\\lib\\site-packages (from langchain) (0.1.23)\n",
      "Requirement already satisfied: numpy<2,>=1 in d:\\ai\\software\\anaconda3\\lib\\site-packages (from langchain) (1.24.3)\n",
      "Requirement already satisfied: pydantic<3,>=1 in d:\\ai\\software\\anaconda3\\lib\\site-packages (from langchain) (2.6.3)\n",
      "Requirement already satisfied: requests<3,>=2 in d:\\ai\\software\\anaconda3\\lib\\site-packages (from langchain) (2.31.0)\n",
      "Requirement already satisfied: tenacity<9.0.0,>=8.1.0 in d:\\ai\\software\\anaconda3\\lib\\site-packages (from langchain) (8.2.2)\n",
      "Requirement already satisfied: attrs>=17.3.0 in d:\\ai\\software\\anaconda3\\lib\\site-packages (from aiohttp<4.0.0,>=3.8.3->langchain) (22.1.0)\n",
      "Requirement already satisfied: charset-normalizer<3.0,>=2.0 in d:\\ai\\software\\anaconda3\\lib\\site-packages (from aiohttp<4.0.0,>=3.8.3->langchain) (2.0.4)\n",
      "Requirement already satisfied: multidict<7.0,>=4.5 in d:\\ai\\software\\anaconda3\\lib\\site-packages (from aiohttp<4.0.0,>=3.8.3->langchain) (6.0.2)\n",
      "Requirement already satisfied: async-timeout<5.0,>=4.0.0a3 in d:\\ai\\software\\anaconda3\\lib\\site-packages (from aiohttp<4.0.0,>=3.8.3->langchain) (4.0.2)\n",
      "Requirement already satisfied: yarl<2.0,>=1.0 in d:\\ai\\software\\anaconda3\\lib\\site-packages (from aiohttp<4.0.0,>=3.8.3->langchain) (1.8.1)\n",
      "Requirement already satisfied: frozenlist>=1.1.1 in d:\\ai\\software\\anaconda3\\lib\\site-packages (from aiohttp<4.0.0,>=3.8.3->langchain) (1.3.3)\n",
      "Requirement already satisfied: aiosignal>=1.1.2 in d:\\ai\\software\\anaconda3\\lib\\site-packages (from aiohttp<4.0.0,>=3.8.3->langchain) (1.2.0)\n",
      "Requirement already satisfied: marshmallow<4.0.0,>=3.18.0 in d:\\ai\\software\\anaconda3\\lib\\site-packages (from dataclasses-json<0.7,>=0.5.7->langchain) (3.21.1)\n",
      "Requirement already satisfied: typing-inspect<1,>=0.4.0 in d:\\ai\\software\\anaconda3\\lib\\site-packages (from dataclasses-json<0.7,>=0.5.7->langchain) (0.9.0)\n",
      "Requirement already satisfied: jsonpointer>=1.9 in d:\\ai\\software\\anaconda3\\lib\\site-packages (from jsonpatch<2.0,>=1.33->langchain) (2.1)\n",
      "Requirement already satisfied: anyio<5,>=3 in d:\\ai\\software\\anaconda3\\lib\\site-packages (from langchain-core<0.2,>=0.1.29->langchain) (3.5.0)\n",
      "Requirement already satisfied: packaging<24.0,>=23.2 in d:\\ai\\software\\anaconda3\\lib\\site-packages (from langchain-core<0.2,>=0.1.29->langchain) (23.2)\n",
      "Requirement already satisfied: orjson<4.0.0,>=3.9.14 in d:\\ai\\software\\anaconda3\\lib\\site-packages (from langsmith<0.2.0,>=0.1.17->langchain) (3.9.15)\n",
      "Requirement already satisfied: annotated-types>=0.4.0 in d:\\ai\\software\\anaconda3\\lib\\site-packages (from pydantic<3,>=1->langchain) (0.6.0)\n",
      "Requirement already satisfied: pydantic-core==2.16.3 in d:\\ai\\software\\anaconda3\\lib\\site-packages (from pydantic<3,>=1->langchain) (2.16.3)\n",
      "Requirement already satisfied: typing-extensions>=4.6.1 in d:\\ai\\software\\anaconda3\\lib\\site-packages (from pydantic<3,>=1->langchain) (4.7.1)\n",
      "Requirement already satisfied: idna<4,>=2.5 in d:\\ai\\software\\anaconda3\\lib\\site-packages (from requests<3,>=2->langchain) (3.4)\n",
      "Requirement already satisfied: urllib3<3,>=1.21.1 in d:\\ai\\software\\anaconda3\\lib\\site-packages (from requests<3,>=2->langchain) (1.26.16)\n",
      "Requirement already satisfied: certifi>=2017.4.17 in d:\\ai\\software\\anaconda3\\lib\\site-packages (from requests<3,>=2->langchain) (2023.7.22)\n",
      "Requirement already satisfied: greenlet!=0.4.17 in d:\\ai\\software\\anaconda3\\lib\\site-packages (from SQLAlchemy<3,>=1.4->langchain) (2.0.1)\n",
      "Requirement already satisfied: sniffio>=1.1 in d:\\ai\\software\\anaconda3\\lib\\site-packages (from anyio<5,>=3->langchain-core<0.2,>=0.1.29->langchain) (1.2.0)\n",
      "Requirement already satisfied: mypy-extensions>=0.3.0 in d:\\ai\\software\\anaconda3\\lib\\site-packages (from typing-inspect<1,>=0.4.0->dataclasses-json<0.7,>=0.5.7->langchain) (0.4.3)\n",
      "Note: you may need to restart the kernel to use updated packages.\n"
     ]
    }
   ],
   "source": [
    "pip install langchain"
   ]
  },
  {
   "cell_type": "code",
   "execution_count": 2,
   "id": "0a82c1f3",
   "metadata": {},
   "outputs": [
    {
     "name": "stdout",
     "output_type": "stream",
     "text": [
      "Requirement already satisfied: langchain-openai in d:\\ai\\software\\anaconda3\\lib\\site-packages (0.0.8)\n",
      "Requirement already satisfied: langchain-core<0.2.0,>=0.1.27 in d:\\ai\\software\\anaconda3\\lib\\site-packages (from langchain-openai) (0.1.30)\n",
      "Requirement already satisfied: openai<2.0.0,>=1.10.0 in d:\\ai\\software\\anaconda3\\lib\\site-packages (from langchain-openai) (1.13.3)\n",
      "Requirement already satisfied: tiktoken<1,>=0.5.2 in d:\\ai\\software\\anaconda3\\lib\\site-packages (from langchain-openai) (0.6.0)\n",
      "Requirement already satisfied: PyYAML>=5.3 in d:\\ai\\software\\anaconda3\\lib\\site-packages (from langchain-core<0.2.0,>=0.1.27->langchain-openai) (6.0)\n",
      "Requirement already satisfied: anyio<5,>=3 in d:\\ai\\software\\anaconda3\\lib\\site-packages (from langchain-core<0.2.0,>=0.1.27->langchain-openai) (3.5.0)\n",
      "Requirement already satisfied: jsonpatch<2.0,>=1.33 in d:\\ai\\software\\anaconda3\\lib\\site-packages (from langchain-core<0.2.0,>=0.1.27->langchain-openai) (1.33)\n",
      "Requirement already satisfied: langsmith<0.2.0,>=0.1.0 in d:\\ai\\software\\anaconda3\\lib\\site-packages (from langchain-core<0.2.0,>=0.1.27->langchain-openai) (0.1.23)\n",
      "Requirement already satisfied: packaging<24.0,>=23.2 in d:\\ai\\software\\anaconda3\\lib\\site-packages (from langchain-core<0.2.0,>=0.1.27->langchain-openai) (23.2)\n",
      "Requirement already satisfied: pydantic<3,>=1 in d:\\ai\\software\\anaconda3\\lib\\site-packages (from langchain-core<0.2.0,>=0.1.27->langchain-openai) (2.6.3)\n",
      "Requirement already satisfied: requests<3,>=2 in d:\\ai\\software\\anaconda3\\lib\\site-packages (from langchain-core<0.2.0,>=0.1.27->langchain-openai) (2.31.0)\n",
      "Requirement already satisfied: tenacity<9.0.0,>=8.1.0 in d:\\ai\\software\\anaconda3\\lib\\site-packages (from langchain-core<0.2.0,>=0.1.27->langchain-openai) (8.2.2)\n",
      "Requirement already satisfied: distro<2,>=1.7.0 in d:\\ai\\software\\anaconda3\\lib\\site-packages (from openai<2.0.0,>=1.10.0->langchain-openai) (1.9.0)\n",
      "Requirement already satisfied: httpx<1,>=0.23.0 in d:\\ai\\software\\anaconda3\\lib\\site-packages (from openai<2.0.0,>=1.10.0->langchain-openai) (0.27.0)\n",
      "Requirement already satisfied: sniffio in d:\\ai\\software\\anaconda3\\lib\\site-packages (from openai<2.0.0,>=1.10.0->langchain-openai) (1.2.0)\n",
      "Requirement already satisfied: tqdm>4 in d:\\ai\\software\\anaconda3\\lib\\site-packages (from openai<2.0.0,>=1.10.0->langchain-openai) (4.66.2)\n",
      "Requirement already satisfied: typing-extensions<5,>=4.7 in d:\\ai\\software\\anaconda3\\lib\\site-packages (from openai<2.0.0,>=1.10.0->langchain-openai) (4.7.1)\n",
      "Requirement already satisfied: regex>=2022.1.18 in d:\\ai\\software\\anaconda3\\lib\\site-packages (from tiktoken<1,>=0.5.2->langchain-openai) (2022.7.9)\n",
      "Requirement already satisfied: idna>=2.8 in d:\\ai\\software\\anaconda3\\lib\\site-packages (from anyio<5,>=3->langchain-core<0.2.0,>=0.1.27->langchain-openai) (3.4)\n",
      "Requirement already satisfied: certifi in d:\\ai\\software\\anaconda3\\lib\\site-packages (from httpx<1,>=0.23.0->openai<2.0.0,>=1.10.0->langchain-openai) (2023.7.22)\n",
      "Requirement already satisfied: httpcore==1.* in d:\\ai\\software\\anaconda3\\lib\\site-packages (from httpx<1,>=0.23.0->openai<2.0.0,>=1.10.0->langchain-openai) (1.0.4)\n",
      "Requirement already satisfied: h11<0.15,>=0.13 in d:\\ai\\software\\anaconda3\\lib\\site-packages (from httpcore==1.*->httpx<1,>=0.23.0->openai<2.0.0,>=1.10.0->langchain-openai) (0.14.0)\n",
      "Requirement already satisfied: jsonpointer>=1.9 in d:\\ai\\software\\anaconda3\\lib\\site-packages (from jsonpatch<2.0,>=1.33->langchain-core<0.2.0,>=0.1.27->langchain-openai) (2.1)\n",
      "Requirement already satisfied: orjson<4.0.0,>=3.9.14 in d:\\ai\\software\\anaconda3\\lib\\site-packages (from langsmith<0.2.0,>=0.1.0->langchain-core<0.2.0,>=0.1.27->langchain-openai) (3.9.15)\n",
      "Requirement already satisfied: annotated-types>=0.4.0 in d:\\ai\\software\\anaconda3\\lib\\site-packages (from pydantic<3,>=1->langchain-core<0.2.0,>=0.1.27->langchain-openai) (0.6.0)\n",
      "Requirement already satisfied: pydantic-core==2.16.3 in d:\\ai\\software\\anaconda3\\lib\\site-packages (from pydantic<3,>=1->langchain-core<0.2.0,>=0.1.27->langchain-openai) (2.16.3)\n",
      "Requirement already satisfied: charset-normalizer<4,>=2 in d:\\ai\\software\\anaconda3\\lib\\site-packages (from requests<3,>=2->langchain-core<0.2.0,>=0.1.27->langchain-openai) (2.0.4)\n",
      "Requirement already satisfied: urllib3<3,>=1.21.1 in d:\\ai\\software\\anaconda3\\lib\\site-packages (from requests<3,>=2->langchain-core<0.2.0,>=0.1.27->langchain-openai) (1.26.16)\n",
      "Requirement already satisfied: colorama in d:\\ai\\software\\anaconda3\\lib\\site-packages (from tqdm>4->openai<2.0.0,>=1.10.0->langchain-openai) (0.4.6)\n",
      "Note: you may need to restart the kernel to use updated packages.\n"
     ]
    }
   ],
   "source": [
    "pip install langchain-openai    "
   ]
  },
  {
   "cell_type": "code",
   "execution_count": 1,
   "id": "f53f4361",
   "metadata": {},
   "outputs": [],
   "source": [
    "##ToDO: Update your api Key\n",
    "openai_api_key='...'"
   ]
  },
  {
   "cell_type": "code",
   "execution_count": 4,
   "id": "ea39aed4",
   "metadata": {},
   "outputs": [],
   "source": [
    "from langchain_openai import ChatOpenAI\n",
    "\n",
    "llm = ChatOpenAI(openai_api_key=openai_api_key)"
   ]
  },
  {
   "cell_type": "code",
   "execution_count": 5,
   "id": "85afd713",
   "metadata": {},
   "outputs": [],
   "source": [
    "def predict(chain_llm,_prompt):\n",
    "    print( chain_llm.invoke(_prompt).content)"
   ]
  },
  {
   "cell_type": "code",
   "execution_count": 6,
   "id": "e947e9a8",
   "metadata": {},
   "outputs": [
    {
     "name": "stdout",
     "output_type": "stream",
     "text": [
      "The capital of France is Paris.\n"
     ]
    }
   ],
   "source": [
    "predict(llm,\"What is the capital of France?\")"
   ]
  },
  {
   "cell_type": "code",
   "execution_count": 7,
   "id": "62f72e1a",
   "metadata": {},
   "outputs": [],
   "source": [
    "from langchain_core.prompts import ChatPromptTemplate\n",
    "prompt = ChatPromptTemplate.from_messages([\n",
    "    (\"system\", \"You are life coach.\"),\n",
    "    (\"user\", \"{input}\")\n",
    "])"
   ]
  },
  {
   "cell_type": "code",
   "execution_count": 8,
   "id": "213839c9",
   "metadata": {},
   "outputs": [],
   "source": [
    " chain= prompt| llm"
   ]
  },
  {
   "cell_type": "code",
   "execution_count": 9,
   "id": "fb3597b6",
   "metadata": {},
   "outputs": [
    {
     "name": "stdout",
     "output_type": "stream",
     "text": [
      "Living a healthy life involves making choices that prioritize your physical, mental, and emotional well-being. Here are some tips to help you live a healthy life:\n",
      "\n",
      "1. Eat a balanced diet: Focus on whole foods such as fruits, vegetables, whole grains, lean proteins, and healthy fats. Limit processed foods, sugary drinks, and excessive amounts of salt and sugar.\n",
      "\n",
      "2. Stay active: Aim for at least 150 minutes of moderate-intensity exercise per week. Find activities you enjoy, such as walking, cycling, yoga, or dancing, and make them a regular part of your routine.\n",
      "\n",
      "3. Get enough sleep: Aim for 7-9 hours of quality sleep each night. Create a bedtime routine, avoid screens before bed, and create a comfortable sleep environment to help improve your sleep quality.\n",
      "\n",
      "4. Manage stress: Practice stress-reducing techniques such as mindfulness, deep breathing, meditation, or yoga. Find healthy ways to cope with stress, such as talking to a friend, journaling, or engaging in hobbies you enjoy.\n",
      "\n",
      "5. Stay hydrated: Drink plenty of water throughout the day to keep your body hydrated and functioning properly.\n",
      "\n",
      "6. Build strong relationships: Surround yourself with supportive and positive people. Cultivate friendships and relationships that bring you joy and support your well-being.\n",
      "\n",
      "7. Prioritize mental health: Take care of your mental health by seeking help if needed, practicing self-care, setting boundaries, and engaging in activities that promote relaxation and happiness.\n",
      "\n",
      "8. Avoid harmful substances: Limit your intake of alcohol, avoid smoking, and avoid using drugs or other substances that can harm your health.\n",
      "\n",
      "Remember, living a healthy life is a journey, and it's important to be patient with yourself and make gradual changes that are sustainable in the long run. If you need additional support, consider working with a healthcare provider, therapist, or life coach to help you achieve your health and wellness goals.\n"
     ]
    }
   ],
   "source": [
    "predict(chain,{\"input\": \"how to live a healthy life\"})"
   ]
  },
  {
   "cell_type": "code",
   "execution_count": 10,
   "id": "d67b62c5",
   "metadata": {},
   "outputs": [],
   "source": [
    "from langchain_core.output_parsers import StrOutputParser\n",
    "\n",
    "output_parser = StrOutputParser()"
   ]
  },
  {
   "cell_type": "code",
   "execution_count": 11,
   "id": "eaa296b2",
   "metadata": {},
   "outputs": [],
   "source": [
    "chain = prompt | llm | output_parser"
   ]
  },
  {
   "cell_type": "code",
   "execution_count": 12,
   "id": "9f871710",
   "metadata": {},
   "outputs": [],
   "source": [
    "response = chain.invoke({\"input\": \"Tell me a tip for hralthy life?\"})"
   ]
  },
  {
   "cell_type": "code",
   "execution_count": 13,
   "id": "9e2bf56e",
   "metadata": {},
   "outputs": [
    {
     "data": {
      "text/plain": [
       "str"
      ]
     },
     "execution_count": 13,
     "metadata": {},
     "output_type": "execute_result"
    }
   ],
   "source": [
    "type(response) # output type is <str>"
   ]
  },
  {
   "cell_type": "code",
   "execution_count": 14,
   "id": "ad7f8988",
   "metadata": {},
   "outputs": [],
   "source": [
    "chain = prompt | llm"
   ]
  },
  {
   "cell_type": "code",
   "execution_count": 15,
   "id": "aae940cb",
   "metadata": {},
   "outputs": [],
   "source": [
    "response = chain.invoke({\"input\": \"Tell me a tip for hralthy life?\"})"
   ]
  },
  {
   "cell_type": "code",
   "execution_count": 16,
   "id": "1bef5050",
   "metadata": {},
   "outputs": [
    {
     "data": {
      "text/plain": [
       "langchain_core.messages.ai.AIMessage"
      ]
     },
     "execution_count": 16,
     "metadata": {},
     "output_type": "execute_result"
    }
   ],
   "source": [
    "type(response) # output type is <AIMessage>"
   ]
  },
  {
   "cell_type": "code",
   "execution_count": 17,
   "id": "ced04601",
   "metadata": {
    "scrolled": true
   },
   "outputs": [
    {
     "name": "stdout",
     "output_type": "stream",
     "text": [
      "Requirement already satisfied: beautifulsoup4 in d:\\ai\\software\\anaconda3\\lib\\site-packages (4.12.2)\n",
      "Requirement already satisfied: soupsieve>1.2 in d:\\ai\\software\\anaconda3\\lib\\site-packages (from beautifulsoup4) (2.4)\n",
      "Note: you may need to restart the kernel to use updated packages.\n"
     ]
    }
   ],
   "source": [
    "pip install beautifulsoup4"
   ]
  },
  {
   "cell_type": "code",
   "execution_count": 18,
   "id": "14c0e843",
   "metadata": {},
   "outputs": [
    {
     "name": "stdout",
     "output_type": "stream",
     "text": [
      "Requirement already satisfied: sqlalchemy==2.0.0 in d:\\ai\\software\\anaconda3\\lib\\site-packages (2.0.0)\n",
      "Requirement already satisfied: typing-extensions>=4.2.0 in d:\\ai\\software\\anaconda3\\lib\\site-packages (from sqlalchemy==2.0.0) (4.7.1)\n",
      "Requirement already satisfied: greenlet!=0.4.17 in d:\\ai\\software\\anaconda3\\lib\\site-packages (from sqlalchemy==2.0.0) (2.0.1)\n",
      "Note: you may need to restart the kernel to use updated packages.\n"
     ]
    }
   ],
   "source": [
    "pip install sqlalchemy==2.0.0"
   ]
  },
  {
   "cell_type": "code",
   "execution_count": 19,
   "id": "b490feff",
   "metadata": {},
   "outputs": [],
   "source": [
    "from langchain_community.document_loaders import WebBaseLoader\n",
    "loader = WebBaseLoader([\"https://www.thehindu.com/news/national/\",\"https://www.thehindu.com/sport/\",\"https://www.thehindu.com/sport/football/\",\"https://www.thehindu.com/sport/abc/\"])\n",
    "\n",
    "docs = loader.load()"
   ]
  },
  {
   "cell_type": "code",
   "execution_count": 20,
   "id": "e28ff737",
   "metadata": {},
   "outputs": [
    {
     "data": {
      "text/plain": [
       "[Document(page_content=\"\\n\\tIndia Latest News: Top National Headlines Today & Breaking News - The Hindu\\n \\n\\n\\n\\n\\n\\n\\n\\nIndia\\n\\n\\n\\nWorld\\n\\n\\n\\nOpinion\\n\\n\\n\\nSports\\n\\n\\n\\ne-Paper\\n\\n\\n\\n\\n\\n\\nShorts\\n\\n\\n\\n\\nData\\n\\n\\n\\n\\nHealth\\n\\n\\n\\n\\nEditorial\\n\\n\\n\\n\\n\\n\\n\\n\\nSEARCH\\n\\n\\n\\nFREE TRIALGIFT a Subscription\\nSubscribe\\nLOGIN\\nACCOUNT\\n\\nPREMIUM\\n\\nOpen in The Hindu AppFREE TRIALLOGINGIFT a Subscription\\nACCOUNT\\n\\nPREMIUM\\nSubscribe \\n\\n\\n\\nShorts\\n\\n\\n\\n\\nData\\n\\n\\n\\n\\nHealth\\n\\n\\n\\n\\nEditorial\\n\\n\\n\\n\\n\\n\\n\\n\\nSEARCH\\n\\n\\n\\n \\n\\n\\n\\n\\n\\n\\n\\nIndia\\n\\n\\n\\nWorld\\n\\n\\n\\nOpinion\\n\\n\\n\\nSports\\n\\n\\n\\ne-Paper\\n\\n\\n \\n\\n\\n\\nShorts\\n\\n\\n\\n\\nData\\n\\n\\n\\n\\nHealth\\n\\n\\n\\n\\nEditorial\\n\\n\\n\\n\\n\\n\\n\\n\\nSEARCH\\n\\n\\n\\n\\n\\n\\n\\nNews\\n\\n\\n\\n\\nBusiness\\n\\n\\n\\n\\nEntertainment\\n\\n\\n\\n\\nLife & Style\\n\\n\\n\\n\\nSociety\\n\\n\\n\\n\\nTechnology\\n\\n\\n\\n\\nVideos\\n\\n\\n\\n\\nPodcast\\n\\n\\n\\n\\nCities\\n\\n\\n\\n\\nStates\\n\\n\\n\\n\\nScience\\n\\n\\n\\n\\nShow More\\n\\n\\n\\n\\n\\n\\n\\nChennai\\n\\n\\n\\n\\nDelhi\\n\\n\\n\\n\\nBengaluru\\n\\n\\n\\n\\nHyderabad\\n\\n\\n\\n\\nMovies\\n\\n\\n\\n\\nFood\\n\\n\\n\\n\\nChildren\\n\\n\\n\\n\\nData\\n\\n\\n\\n\\nKochi\\n\\n\\n\\n\\nBooks\\n\\n\\n\\n\\nBrandhub\\n\\n\\n\\n\\nCoupons\\n\\n\\n\\n\\nEducation\\n\\n\\n\\n\\nTo enjoy additional benefitsFREE TRIALGIFT a Subscription\\nSubscribe\\nLOGIN\\nACCOUNT\\n\\nPREMIUM\\nShowcaseSubscribe to NewslettersCrossword+CONNECT WITH US\\nIndia\\n\\n\\n\\n\\n\\n\\n\\nNews\\n\\n\\n\\n\\nIndia\\n\\n\\n\\n\\nWorld\\n\\n\\n\\n\\nStates\\n\\n\\n\\n\\nCities\\n\\n\\n\\n\\nOther States\\n\\nPM Modi inaugurates development projects worth over ₹34,000 crore in Uttar Pradesh\\n PTIIndia\\n\\nKerala MLA moves SC seeking direction to Centre to protect lives from fatal human-animal conflicts\\nKrishnadas Rajagopal\\nChild falls into 40-ft-deep borewell in Delhi, rescue operation under way\\n\\nIn re-constituted National Commission for Scheduled Castes, govt. ensures a place for Madiga member\\nBJP Gujarat spokesperson Kishor Makwana appointed next Chairperson; another Member from UP’s BijnorAbhinay LakshmanIndia\\n\\nIndia, European Free Trade Association ink free trade agreement\\n PTILok Sabha\\n\\n2024 Lok Sabha elections | Former Congress Ministers, ex-MLAs join BJP in Rajasthan ahead of polls\\n\\nPM Modi inaugurates 15 airport projects, including Delhi’s Terminal 1\\nMore stories from India\\nBJP, RSS have devious agenda of re-writing, destroying Constitution: Congress over BJP MPs remarks\\n PTI\\n‘Apparent differences’ with Chief Election Commissioner Rajiv Kumar led to Arun Goel’s resignation\\nMahesh Langa\\nTerror hideout busted in Jammu and Kashmir's Poonch, 7 IEDs seized\\n PTI\\nElectoral bonds: SC to hear SBI's plea seeking extension to disclose details on March 11\\n PTI\\nIn re-constituted National Commission for Scheduled Castes, govt. ensures a place for Madiga member\\nAbhinay Lakshman\\nPM Modi inaugurates 15 airport projects, including Delhi’s expanded\\xa0Terminal 1\\n ANI\\nIndia, European Free Trade Association ink free trade agreement\\n PTI\\nKerala MLA moves SC seeking direction to Centre to protect lives from fatal human-animal conflicts\\nKrishnadas Rajagopal\\n‘Canal Man’ Laungi Bhuiya picks up his shovel again to help farmers\\nAmit Bhelari\\nElection Commission or election omission, asks Congress after Arun Goel resigns as EC\\n PTI\\nPremium \\nG.N. Saibaba | Wheeling into freedom\\nSreeparna Chakrabarty\\nCentre issues directive to curb tailgating at e-gates for Digi Yatra passengers\\nJagriti Chandra\\nArun Goel quits as Election Commissioner ahead of polls\\nSreeparna Chakrabarty\\nLand mafia would be punished, Amit Shah tells RJD Chief Lalu Prasad\\nAmit BhelariSHOW MORE\\n\\n\\nThe Hindu\\n\\n\\n\\nAbout Us\\n\\n\\n\\n\\nCode of Editorial Values\\n\\n\\n\\n\\nNews Archive\\n\\n\\n\\n\\nSitemap\\n\\n\\n\\n\\nPrint Subscription\\n\\n\\n\\n\\nDigital Subscription\\n\\n\\n\\n\\nSubscribe to Newsletters\\n\\n\\n\\n\\nRss Feeds\\n\\n\\n\\n\\nReaders Editor-Terms of Reference\\n\\n\\n\\n\\nAuthors & Contributors\\n\\n\\n\\n\\n\\nContact us\\n\\n\\n\\nContact Us\\n\\n\\n\\n\\nSocial Media\\n\\n\\n\\n\\nAdvertise With Us\\n\\n\\n\\n\\n\\nGroup News Sites\\n\\n\\n\\nBusiness Line\\n\\n\\n\\n\\nBL on Campus\\n\\n\\n\\n\\nSportstar\\n\\n\\n\\n\\nFrontline\\n\\n\\n\\n\\nஇந்து தமிழ் திசை\\n\\n\\n\\n\\nThe Hindu Centre\\n\\n\\n\\n\\nYoung World Club\\n\\n\\n\\n\\nThe Hindu ePaper\\n\\n\\n\\n\\nBusiness Line ePaper\\n\\n\\n\\n\\nCrossword + Free Games\\n\\n\\n\\n\\n\\n\\n\\n\\n\\nOther Products\\n\\n\\n\\nRoofandFloor\\n\\n\\n\\n\\nSTEP\\n\\n\\n\\n\\nImages\\n\\n\\n\\n\\nClassifieds - Print\\n\\n\\n\\n\\nBookstore & Special Publications\\n\\n\\n\\n\\n\\nPopular Sections\\n\\n\\n\\nElections\\n\\n\\n\\n\\nIsraeli–Palestinian conflict 2023\\n\\n\\n\\n\\nLatest News\\n\\n\\n\\n\\nNational News\\n\\n\\n\\n\\nInternational News\\n\\n\\n\\n\\nVideos\\n\\n\\n\\n\\nLife & Style\\n\\n\\n\\n\\nFood\\n\\n\\n\\n\\nPodcast\\n\\n\\n\\n\\nShowcase\\n\\n\\n\\n\\n\\n\\nOpinion\\n\\n\\n\\n\\nEditorial\\n\\n\\n\\n\\nColumns\\n\\n\\n\\n\\nComment\\n\\n\\n\\n\\nCartoon\\n\\n\\n\\n\\nLetters\\n\\n\\n\\n\\nInterview\\n\\n\\n\\n\\nLead\\n\\n\\n\\n\\n\\n\\n\\n\\n\\nBusiness\\n\\n\\n\\n\\nAgri-Business\\n\\n\\n\\n\\nIndustry\\n\\n\\n\\n\\nEconomy\\n\\n\\n\\n\\nMarkets\\n\\n\\n\\n\\nBudget\\n\\n\\n\\n\\n\\n\\nSport\\n\\n\\n\\n\\nCricket\\n\\n\\n\\n\\nFootball\\n\\n\\n\\n\\nHockey\\n\\n\\n\\n\\nTennis\\n\\n\\n\\n\\nAthletics\\n\\n\\n\\n\\nMotorsport\\n\\n\\n\\n\\nRaces\\n\\n\\n\\n\\nOther Sports\\n\\n\\n\\n\\n\\n\\nSci-Tech\\n\\n\\n\\n\\nScience\\n\\n\\n\\n\\nTechnology\\n\\n\\n\\n\\nHealth\\n\\n\\n\\n\\nAgriculture\\n\\n\\n\\n\\nEnvironment\\n\\n\\n\\n\\nGadgets\\n\\n\\n\\n\\nInternet\\n\\n\\n\\n\\n\\n\\n\\n\\n\\n\\nStates\\n\\n\\n\\n\\nAndhra Pradesh\\n\\n\\n\\n\\nKarnataka\\n\\n\\n\\n\\nKerala\\n\\n\\n\\n\\nTamil Nadu\\n\\n\\n\\n\\nTelangana\\n\\n\\n\\n\\nOther States\\n\\n\\n\\n\\n\\n\\nCities\\n\\n\\n\\n\\nBengaluru\\n\\n\\n\\n\\nChennai\\n\\n\\n\\n\\nCoimbatore\\n\\n\\n\\n\\nDelhi\\n\\n\\n\\n\\nHyderabad\\n\\n\\n\\n\\nKochi\\n\\n\\n\\n\\nKolkata\\n\\n\\n\\n\\nKozhikode\\n\\n\\n\\n\\nMadurai\\n\\n\\n\\n\\nMangaluru\\n\\n\\n\\n\\nMumbai\\n\\n\\n\\n\\nPuducherry\\n\\n\\n\\n\\nThiruvananthapuram\\n\\n\\n\\n\\nTiruchirapalli\\n\\n\\n\\n\\nVijayawada\\n\\n\\n\\n\\nVisakhapatnam\\n\\n\\n\\n\\n\\n\\nTrending on The Hindu\\n2024 elections in india\\n\\nVisual Stories\\n\\nLok Sabha General elections 2024\\n\\nIndira Gandhi’s 1979 Thanjavur By Election\\n\\nPM Modi Kashmir visit\\n\\nRameshwaram cafe blast suspect sketches\\n\\nShaitaan movie review\\n\\nGaami Movie review\\n\\nDamsel movie review\\n\\nAadhar\\nTrending on Group sites\\nStock Maket Live Today\\n\\nIndia vs England LIVE 5th Test\\n\\nUP’s economy surpassed TN’s? - PTR\\n\\nStock Market Today\\n\\nGold Rate Today\\n\\nSilver Rate Today\\n\\nStocks to buy\\n\\nFootball News\\n\\nPolitics News\\n\\nFrontline Current Issue\\n\\n\\n\\nTerms of Use\\n\\n\\n\\n\\nPrivacy Policy\\n\\n\\n \\nCopyright© 2024, THG PUBLISHING PVT LTD. or its affiliated companies. All rights reserved.BACK TO TOPSign in to unlock member-only benefits!Access 10 free stories every monthSave stories to read laterAccess to comment on every storySign-up/manage your newsletter subscriptions with a single clickGet notified by email for early access to discounts & offers on our products✕Looks like you are already logged in from more than 3 devices!To continue logging in, remove at least one device from the below listLog outLog Out from all devicesTerms & conditions\\xa0\\xa0|\\xa0\\xa0Institutional Subscriber\\n\", metadata={'source': 'https://www.thehindu.com/news/national/', 'title': '\\n\\tIndia Latest News: Top National Headlines Today & Breaking News - The Hindu\\n', 'description': 'National news and headlines from within or around India with live updates on major breaking events from The Hindu.', 'language': 'en'}),\n",
       " Document(page_content=\"\\n\\tLive Scores, Latest Sports News, Results, Cricket Updates - The Hindu\\n \\n\\n\\n\\n\\n\\n\\n\\nIndia\\n\\n\\n\\nWorld\\n\\n\\n\\nOpinion\\n\\n\\n\\nSports\\n\\n\\n\\ne-Paper\\n\\n\\n\\n\\n\\n\\nShorts\\n\\n\\n\\n\\nData\\n\\n\\n\\n\\nHealth\\n\\n\\n\\n\\nEditorial\\n\\n\\n\\n\\n\\n\\n\\n\\nSEARCH\\n\\n\\n\\nFREE TRIALGIFT a Subscription\\nSubscribe\\nLOGIN\\nACCOUNT\\n\\nPREMIUM\\n\\nOpen in The Hindu AppFREE TRIALLOGINGIFT a Subscription\\nACCOUNT\\n\\nPREMIUM\\nSubscribe \\n\\n\\n\\nShorts\\n\\n\\n\\n\\nData\\n\\n\\n\\n\\nHealth\\n\\n\\n\\n\\nEditorial\\n\\n\\n\\n\\n\\n\\n\\n\\nSEARCH\\n\\n\\n\\n \\n\\n\\n\\n\\n\\n\\n\\nIndia\\n\\n\\n\\nWorld\\n\\n\\n\\nOpinion\\n\\n\\n\\nSports\\n\\n\\n\\ne-Paper\\n\\n\\n \\n\\n\\n\\nShorts\\n\\n\\n\\n\\nData\\n\\n\\n\\n\\nHealth\\n\\n\\n\\n\\nEditorial\\n\\n\\n\\n\\n\\n\\n\\n\\nSEARCH\\n\\n\\n\\n\\n\\n\\n\\nNews\\n\\n\\n\\n\\nBusiness\\n\\n\\n\\n\\nEntertainment\\n\\n\\n\\n\\nLife & Style\\n\\n\\n\\n\\nSociety\\n\\n\\n\\n\\nTechnology\\n\\n\\n\\n\\nVideos\\n\\n\\n\\n\\nPodcast\\n\\n\\n\\n\\nCities\\n\\n\\n\\n\\nStates\\n\\n\\n\\n\\nScience\\n\\n\\n\\n\\nShow More\\n\\n\\n\\n\\n\\n\\n\\nChennai\\n\\n\\n\\n\\nDelhi\\n\\n\\n\\n\\nBengaluru\\n\\n\\n\\n\\nHyderabad\\n\\n\\n\\n\\nMovies\\n\\n\\n\\n\\nFood\\n\\n\\n\\n\\nChildren\\n\\n\\n\\n\\nData\\n\\n\\n\\n\\nKochi\\n\\n\\n\\n\\nBooks\\n\\n\\n\\n\\nBrandhub\\n\\n\\n\\n\\nCoupons\\n\\n\\n\\n\\nEducation\\n\\n\\n\\n\\nTo enjoy additional benefitsFREE TRIALGIFT a Subscription\\nSubscribe\\nLOGIN\\nACCOUNT\\n\\nPREMIUM\\nShowcaseSubscribe to NewslettersCrossword+CONNECT WITH US\\nSport\\n\\n\\n\\n\\n\\n\\n\\nSport\\n\\n\\n\\n\\nCricket\\n\\n\\n\\n\\nFootball\\n\\n\\n\\n\\nHockey\\n\\n\\n\\n\\nTennis\\n\\n\\n\\n\\nAthletics\\n\\n\\n\\n\\nMotorsport\\n\\n\\n\\n\\nRaces\\n\\n\\n\\n\\nOther Sports\\n\\n\\n\\n\\nMotorsport\\n\\nSaudi Arabian Grand Prix | Verstappen continues winning streak\\n ReutersCricket\\n\\nSri Lanka cruises to 28-run victory over Bangladesh to win T20 series 2-1\\n AP\\nAce gymnast Dipa finishes fourth in Baku Apparatus World Cup\\n\\nTest cricket is hard, you are going to need each other to succeed: Dravid to young players\\nAfter losing the opening Test in Hyderabad, the hosts bounced back in stunning fashion to win the next four matches to claim the series. PTICricket\\n\\nInd vs Eng Test series | I don't think Rohit has been superior as captain, his bowlers did the trick, says Graeme Swann\\n PTICricket\\n\\nWorld Test Championship | India consolidates top spot after 4-1 series win over England\\n\\nIND vs ENG fifth Test | Our experience in bowling was critical: Dravid\\n\\nCricket\\nSEE MOREFootballSEE MOREOther Sports\\nHockey\\n\\nTennis\\n\\nAthletics\\n\\nMotorsport\\n\\nRaces\\n\\nOthersports\\nSEE MORE\\n\\n\\nThe Hindu\\n\\n\\n\\nAbout Us\\n\\n\\n\\n\\nCode of Editorial Values\\n\\n\\n\\n\\nNews Archive\\n\\n\\n\\n\\nSitemap\\n\\n\\n\\n\\nPrint Subscription\\n\\n\\n\\n\\nDigital Subscription\\n\\n\\n\\n\\nSubscribe to Newsletters\\n\\n\\n\\n\\nRss Feeds\\n\\n\\n\\n\\nReaders Editor-Terms of Reference\\n\\n\\n\\n\\nAuthors & Contributors\\n\\n\\n\\n\\n\\nContact us\\n\\n\\n\\nContact Us\\n\\n\\n\\n\\nSocial Media\\n\\n\\n\\n\\nAdvertise With Us\\n\\n\\n\\n\\n\\nGroup News Sites\\n\\n\\n\\nBusiness Line\\n\\n\\n\\n\\nBL on Campus\\n\\n\\n\\n\\nSportstar\\n\\n\\n\\n\\nFrontline\\n\\n\\n\\n\\nஇந்து தமிழ் திசை\\n\\n\\n\\n\\nThe Hindu Centre\\n\\n\\n\\n\\nYoung World Club\\n\\n\\n\\n\\nThe Hindu ePaper\\n\\n\\n\\n\\nBusiness Line ePaper\\n\\n\\n\\n\\nCrossword + Free Games\\n\\n\\n\\n\\n\\n\\n\\n\\n\\nOther Products\\n\\n\\n\\nRoofandFloor\\n\\n\\n\\n\\nSTEP\\n\\n\\n\\n\\nImages\\n\\n\\n\\n\\nClassifieds - Print\\n\\n\\n\\n\\nBookstore & Special Publications\\n\\n\\n\\n\\n\\nPopular Sections\\n\\n\\n\\nElections\\n\\n\\n\\n\\nIsraeli–Palestinian conflict 2023\\n\\n\\n\\n\\nLatest News\\n\\n\\n\\n\\nNational News\\n\\n\\n\\n\\nInternational News\\n\\n\\n\\n\\nVideos\\n\\n\\n\\n\\nLife & Style\\n\\n\\n\\n\\nFood\\n\\n\\n\\n\\nPodcast\\n\\n\\n\\n\\nShowcase\\n\\n\\n\\n\\n\\n\\nOpinion\\n\\n\\n\\n\\nEditorial\\n\\n\\n\\n\\nColumns\\n\\n\\n\\n\\nComment\\n\\n\\n\\n\\nCartoon\\n\\n\\n\\n\\nLetters\\n\\n\\n\\n\\nInterview\\n\\n\\n\\n\\nLead\\n\\n\\n\\n\\n\\n\\n\\n\\n\\nBusiness\\n\\n\\n\\n\\nAgri-Business\\n\\n\\n\\n\\nIndustry\\n\\n\\n\\n\\nEconomy\\n\\n\\n\\n\\nMarkets\\n\\n\\n\\n\\nBudget\\n\\n\\n\\n\\n\\n\\nSport\\n\\n\\n\\n\\nCricket\\n\\n\\n\\n\\nFootball\\n\\n\\n\\n\\nHockey\\n\\n\\n\\n\\nTennis\\n\\n\\n\\n\\nAthletics\\n\\n\\n\\n\\nMotorsport\\n\\n\\n\\n\\nRaces\\n\\n\\n\\n\\nOther Sports\\n\\n\\n\\n\\n\\n\\nSci-Tech\\n\\n\\n\\n\\nScience\\n\\n\\n\\n\\nTechnology\\n\\n\\n\\n\\nHealth\\n\\n\\n\\n\\nAgriculture\\n\\n\\n\\n\\nEnvironment\\n\\n\\n\\n\\nGadgets\\n\\n\\n\\n\\nInternet\\n\\n\\n\\n\\n\\n\\n\\n\\n\\n\\nStates\\n\\n\\n\\n\\nAndhra Pradesh\\n\\n\\n\\n\\nKarnataka\\n\\n\\n\\n\\nKerala\\n\\n\\n\\n\\nTamil Nadu\\n\\n\\n\\n\\nTelangana\\n\\n\\n\\n\\nOther States\\n\\n\\n\\n\\n\\n\\nCities\\n\\n\\n\\n\\nBengaluru\\n\\n\\n\\n\\nChennai\\n\\n\\n\\n\\nCoimbatore\\n\\n\\n\\n\\nDelhi\\n\\n\\n\\n\\nHyderabad\\n\\n\\n\\n\\nKochi\\n\\n\\n\\n\\nKolkata\\n\\n\\n\\n\\nKozhikode\\n\\n\\n\\n\\nMadurai\\n\\n\\n\\n\\nMangaluru\\n\\n\\n\\n\\nMumbai\\n\\n\\n\\n\\nPuducherry\\n\\n\\n\\n\\nThiruvananthapuram\\n\\n\\n\\n\\nTiruchirapalli\\n\\n\\n\\n\\nVijayawada\\n\\n\\n\\n\\nVisakhapatnam\\n\\n\\n\\n\\n\\n\\nTrending on The Hindu\\n2024 elections in india\\n\\nVisual Stories\\n\\nLok Sabha General elections 2024\\n\\nIndira Gandhi’s 1979 Thanjavur By Election\\n\\nPM Modi Kashmir visit\\n\\nRameshwaram cafe blast suspect sketches\\n\\nShaitaan movie review\\n\\nGaami Movie review\\n\\nDamsel movie review\\n\\nAadhar\\nTrending on Group sites\\nStock Maket Live Today\\n\\nIndia vs England LIVE 5th Test\\n\\nUP’s economy surpassed TN’s? - PTR\\n\\nStock Market Today\\n\\nGold Rate Today\\n\\nSilver Rate Today\\n\\nStocks to buy\\n\\nFootball News\\n\\nPolitics News\\n\\nFrontline Current Issue\\n\\n\\n\\nTerms of Use\\n\\n\\n\\n\\nPrivacy Policy\\n\\n\\n \\nCopyright© 2024, THG PUBLISHING PVT LTD. or its affiliated companies. All rights reserved.BACK TO TOPSign in to unlock member-only benefits!Access 10 free stories every monthSave stories to read laterAccess to comment on every storySign-up/manage your newsletter subscriptions with a single clickGet notified by email for early access to discounts & offers on our products✕Looks like you are already logged in from more than 3 devices!To continue logging in, remove at least one device from the below listLog outLog Out from all devicesTerms & conditions\\xa0\\xa0|\\xa0\\xa0Institutional Subscriber\\n\", metadata={'source': 'https://www.thehindu.com/sport/', 'title': '\\n\\tLive Scores, Latest Sports News, Results, Cricket Updates - The Hindu\\n', 'description': 'Stay Up To Date With The Latest Sports News &amp; Updates From The World Of Cricket, Football, Tennis, Badminton &amp; Much More At The Hindu', 'language': 'en'}),\n",
       " Document(page_content=\"\\n\\tFootball News, Football Scores, Premier League, La Liga, ISL - The Hindu\\n \\n\\n\\n\\n\\n\\n\\n\\nIndia\\n\\n\\n\\nWorld\\n\\n\\n\\nOpinion\\n\\n\\n\\nSports\\n\\n\\n\\ne-Paper\\n\\n\\n\\n\\n\\n\\nShorts\\n\\n\\n\\n\\nData\\n\\n\\n\\n\\nHealth\\n\\n\\n\\n\\nEditorial\\n\\n\\n\\n\\n\\n\\n\\n\\nSEARCH\\n\\n\\n\\nFREE TRIALGIFT a Subscription\\nSubscribe\\nLOGIN\\nACCOUNT\\n\\nPREMIUM\\n\\nOpen in The Hindu AppFREE TRIALLOGINGIFT a Subscription\\nACCOUNT\\n\\nPREMIUM\\nSubscribe \\n\\n\\n\\nShorts\\n\\n\\n\\n\\nData\\n\\n\\n\\n\\nHealth\\n\\n\\n\\n\\nEditorial\\n\\n\\n\\n\\n\\n\\n\\n\\nSEARCH\\n\\n\\n\\n \\n\\n\\n\\n\\n\\n\\n\\nIndia\\n\\n\\n\\nWorld\\n\\n\\n\\nOpinion\\n\\n\\n\\nSports\\n\\n\\n\\ne-Paper\\n\\n\\n \\n\\n\\n\\nShorts\\n\\n\\n\\n\\nData\\n\\n\\n\\n\\nHealth\\n\\n\\n\\n\\nEditorial\\n\\n\\n\\n\\n\\n\\n\\n\\nSEARCH\\n\\n\\n\\n\\n\\n\\n\\nNews\\n\\n\\n\\n\\nBusiness\\n\\n\\n\\n\\nEntertainment\\n\\n\\n\\n\\nLife & Style\\n\\n\\n\\n\\nSociety\\n\\n\\n\\n\\nTechnology\\n\\n\\n\\n\\nVideos\\n\\n\\n\\n\\nPodcast\\n\\n\\n\\n\\nCities\\n\\n\\n\\n\\nStates\\n\\n\\n\\n\\nScience\\n\\n\\n\\n\\nShow More\\n\\n\\n\\n\\n\\n\\n\\nChennai\\n\\n\\n\\n\\nDelhi\\n\\n\\n\\n\\nBengaluru\\n\\n\\n\\n\\nHyderabad\\n\\n\\n\\n\\nMovies\\n\\n\\n\\n\\nFood\\n\\n\\n\\n\\nChildren\\n\\n\\n\\n\\nData\\n\\n\\n\\n\\nKochi\\n\\n\\n\\n\\nBooks\\n\\n\\n\\n\\nBrandhub\\n\\n\\n\\n\\nCoupons\\n\\n\\n\\n\\nEducation\\n\\n\\n\\n\\nTo enjoy additional benefitsFREE TRIALGIFT a Subscription\\nSubscribe\\nLOGIN\\nACCOUNT\\n\\nPREMIUM\\nShowcaseSubscribe to NewslettersCrossword+CONNECT WITH US\\nFootball\\n\\n\\n\\n\\n\\n\\n\\nSport\\n\\n\\n\\n\\nCricket\\n\\n\\n\\n\\nFootball\\n\\n\\n\\n\\nHockey\\n\\n\\n\\n\\nTennis\\n\\n\\n\\n\\nAthletics\\n\\n\\n\\n\\nMotorsport\\n\\n\\n\\n\\nRaces\\n\\n\\n\\n\\nOther Sports\\n\\n\\n\\n\\n\\nLa Liga | Superb Yamal strike hands Barcelona 1-0 win over Mallorca\\n Reuters\\nISL 10 | Chennaiyin FC gunning for full points against Hyderabad FC\\nSankar Narayanan E.H. \\nSantosh Trophy final | Goa looks to lean on local support to get the better of a strong Services\\n\\nISL—10 | Mohun Bagan looks to set the record straight against East Bengal\\nSports Bureau\\nSantosh Trophy final | Services weathers the Goa challenge to lift the title for seventh time\\nAmitabha Das Sharma\\nISL 10 | Parray’s winner puts\\xa0a\\xa0spanner in CFC’s play-off hopes\\n\\nLiverpool vs Man City | Klopp, Guardiola set for Premier League last dance with title at stake\\nMore stories from Football\\nSantosh Trophy | Services gets the better of Mizoram, to meet Goa in final\\nAmitabha Das Sharma\\nChampions League | Real Madrid snatch draw to qualify for quarters; Man City go through with easy win\\n Reuters\\nMessi's promised Barca contract, on a napkin, up for auction\\n AFP\\nSpanish prosecutors accuse Real Madrid coach Carlo Ancelotti of alleged tax fraud\\n AP\\nChampions League | Kane double sends Bayern past Lazio into quarterfinal; Mbappe brace sees PSG through\\n Reuters\\nSantosh Trophy | Mizoram beats Kerala in sudden-death to reach the semifinals\\nAmitabha Das Sharma\\nArsenal crushes Sheffield United 6-0 for statement win in Premier League title bid\\n AP\\nRonaldo’s Al-Nassr loses first leg of Asian Champions League quarterfinal\\n AP\\nBarcelona and Girona fail to take advantage of Real Madrid's stumble in Spanish league\\n AP\\nPremium \\nMidfield magician Kroos’ return will add impetus to Germany’s Euro campaign\\nVighnesh P. Venkitesh\\nI-league | Lalhlansanga wins it for Mohammedan against Gokulam Kerala\\nP.K. Ajith Kumar\\nLiverpool is exhausted, injury-hit and relying on youngsters. They keep on winning for Klopp\\n AP\\nISL 10 | Hernandez’s strike helps Bengaluru pip Blasters\\nN. Sudarshan\\nEric Dier makes loan move to Bayern Munich permanent\\n ReutersSHOW MORE\\n\\n\\nThe Hindu\\n\\n\\n\\nAbout Us\\n\\n\\n\\n\\nCode of Editorial Values\\n\\n\\n\\n\\nNews Archive\\n\\n\\n\\n\\nSitemap\\n\\n\\n\\n\\nPrint Subscription\\n\\n\\n\\n\\nDigital Subscription\\n\\n\\n\\n\\nSubscribe to Newsletters\\n\\n\\n\\n\\nRss Feeds\\n\\n\\n\\n\\nReaders Editor-Terms of Reference\\n\\n\\n\\n\\nAuthors & Contributors\\n\\n\\n\\n\\n\\nContact us\\n\\n\\n\\nContact Us\\n\\n\\n\\n\\nSocial Media\\n\\n\\n\\n\\nAdvertise With Us\\n\\n\\n\\n\\n\\nGroup News Sites\\n\\n\\n\\nBusiness Line\\n\\n\\n\\n\\nBL on Campus\\n\\n\\n\\n\\nSportstar\\n\\n\\n\\n\\nFrontline\\n\\n\\n\\n\\nஇந்து தமிழ் திசை\\n\\n\\n\\n\\nThe Hindu Centre\\n\\n\\n\\n\\nYoung World Club\\n\\n\\n\\n\\nThe Hindu ePaper\\n\\n\\n\\n\\nBusiness Line ePaper\\n\\n\\n\\n\\nCrossword + Free Games\\n\\n\\n\\n\\n\\n\\n\\n\\n\\nOther Products\\n\\n\\n\\nRoofandFloor\\n\\n\\n\\n\\nSTEP\\n\\n\\n\\n\\nImages\\n\\n\\n\\n\\nClassifieds - Print\\n\\n\\n\\n\\nBookstore & Special Publications\\n\\n\\n\\n\\n\\nPopular Sections\\n\\n\\n\\nElections\\n\\n\\n\\n\\nIsraeli–Palestinian conflict 2023\\n\\n\\n\\n\\nLatest News\\n\\n\\n\\n\\nNational News\\n\\n\\n\\n\\nInternational News\\n\\n\\n\\n\\nVideos\\n\\n\\n\\n\\nLife & Style\\n\\n\\n\\n\\nFood\\n\\n\\n\\n\\nPodcast\\n\\n\\n\\n\\nShowcase\\n\\n\\n\\n\\n\\n\\nOpinion\\n\\n\\n\\n\\nEditorial\\n\\n\\n\\n\\nColumns\\n\\n\\n\\n\\nComment\\n\\n\\n\\n\\nCartoon\\n\\n\\n\\n\\nLetters\\n\\n\\n\\n\\nInterview\\n\\n\\n\\n\\nLead\\n\\n\\n\\n\\n\\n\\n\\n\\n\\nBusiness\\n\\n\\n\\n\\nAgri-Business\\n\\n\\n\\n\\nIndustry\\n\\n\\n\\n\\nEconomy\\n\\n\\n\\n\\nMarkets\\n\\n\\n\\n\\nBudget\\n\\n\\n\\n\\n\\n\\nSport\\n\\n\\n\\n\\nCricket\\n\\n\\n\\n\\nFootball\\n\\n\\n\\n\\nHockey\\n\\n\\n\\n\\nTennis\\n\\n\\n\\n\\nAthletics\\n\\n\\n\\n\\nMotorsport\\n\\n\\n\\n\\nRaces\\n\\n\\n\\n\\nOther Sports\\n\\n\\n\\n\\n\\n\\nSci-Tech\\n\\n\\n\\n\\nScience\\n\\n\\n\\n\\nTechnology\\n\\n\\n\\n\\nHealth\\n\\n\\n\\n\\nAgriculture\\n\\n\\n\\n\\nEnvironment\\n\\n\\n\\n\\nGadgets\\n\\n\\n\\n\\nInternet\\n\\n\\n\\n\\n\\n\\n\\n\\n\\n\\nStates\\n\\n\\n\\n\\nAndhra Pradesh\\n\\n\\n\\n\\nKarnataka\\n\\n\\n\\n\\nKerala\\n\\n\\n\\n\\nTamil Nadu\\n\\n\\n\\n\\nTelangana\\n\\n\\n\\n\\nOther States\\n\\n\\n\\n\\n\\n\\nCities\\n\\n\\n\\n\\nBengaluru\\n\\n\\n\\n\\nChennai\\n\\n\\n\\n\\nCoimbatore\\n\\n\\n\\n\\nDelhi\\n\\n\\n\\n\\nHyderabad\\n\\n\\n\\n\\nKochi\\n\\n\\n\\n\\nKolkata\\n\\n\\n\\n\\nKozhikode\\n\\n\\n\\n\\nMadurai\\n\\n\\n\\n\\nMangaluru\\n\\n\\n\\n\\nMumbai\\n\\n\\n\\n\\nPuducherry\\n\\n\\n\\n\\nThiruvananthapuram\\n\\n\\n\\n\\nTiruchirapalli\\n\\n\\n\\n\\nVijayawada\\n\\n\\n\\n\\nVisakhapatnam\\n\\n\\n\\n\\n\\n\\nTrending on The Hindu\\n2024 elections in india\\n\\nVisual Stories\\n\\nLok Sabha General elections 2024\\n\\nIndira Gandhi’s 1979 Thanjavur By Election\\n\\nPM Modi Kashmir visit\\n\\nRameshwaram cafe blast suspect sketches\\n\\nShaitaan movie review\\n\\nGaami Movie review\\n\\nDamsel movie review\\n\\nAadhar\\nTrending on Group sites\\nStock Maket Live Today\\n\\nIndia vs England LIVE 5th Test\\n\\nUP’s economy surpassed TN’s? - PTR\\n\\nStock Market Today\\n\\nGold Rate Today\\n\\nSilver Rate Today\\n\\nStocks to buy\\n\\nFootball News\\n\\nPolitics News\\n\\nFrontline Current Issue\\n\\n\\n\\nTerms of Use\\n\\n\\n\\n\\nPrivacy Policy\\n\\n\\n \\nCopyright© 2024, THG PUBLISHING PVT LTD. or its affiliated companies. All rights reserved.BACK TO TOPSign in to unlock member-only benefits!Access 10 free stories every monthSave stories to read laterAccess to comment on every storySign-up/manage your newsletter subscriptions with a single clickGet notified by email for early access to discounts & offers on our products✕Looks like you are already logged in from more than 3 devices!To continue logging in, remove at least one device from the below listLog outLog Out from all devicesTerms & conditions\\xa0\\xa0|\\xa0\\xa0Institutional Subscriber\\n\", metadata={'source': 'https://www.thehindu.com/sport/football/', 'title': '\\n\\tFootball News, Football Scores, Premier League, La Liga, ISL - The Hindu\\n', 'description': 'Get Football News, Updates, Fixtures, Commentary &amp; Live Scores From Top Leagues Like The Premier League, La Liga, ISL &amp; Bundesliga At The Hindu', 'language': 'en'}),\n",
       " Document(page_content=\"\\n\\tPage Not Found\\n \\n\\n\\n\\n\\n\\n\\n\\nIndia\\n\\n\\n\\nWorld\\n\\n\\n\\nOpinion\\n\\n\\n\\nSports\\n\\n\\n\\ne-Paper\\n\\n\\n\\n\\n\\n\\nShorts\\n\\n\\n\\n\\nData\\n\\n\\n\\n\\nHealth\\n\\n\\n\\n\\nEditorial\\n\\n\\n\\n\\n\\n\\n\\n\\nSEARCH\\n\\n\\n\\nFREE TRIALGIFT a Subscription\\nSubscribe\\nLOGIN\\nACCOUNT\\n\\nPREMIUM\\n\\nOpen in The Hindu AppFREE TRIALLOGINGIFT a Subscription\\nACCOUNT\\n\\nPREMIUM\\nSubscribe \\n\\n\\n\\nShorts\\n\\n\\n\\n\\nData\\n\\n\\n\\n\\nHealth\\n\\n\\n\\n\\nEditorial\\n\\n\\n\\n\\n\\n\\n\\n\\nSEARCH\\n\\n\\n\\n \\n\\n\\n\\n\\n\\n\\n\\nIndia\\n\\n\\n\\nWorld\\n\\n\\n\\nOpinion\\n\\n\\n\\nSports\\n\\n\\n\\ne-Paper\\n\\n\\n \\n\\n\\n\\nShorts\\n\\n\\n\\n\\nData\\n\\n\\n\\n\\nHealth\\n\\n\\n\\n\\nEditorial\\n\\n\\n\\n\\n\\n\\n\\n\\nSEARCH\\n\\n\\n\\n\\n\\n\\n\\nNews\\n\\n\\n\\n\\nBusiness\\n\\n\\n\\n\\nEntertainment\\n\\n\\n\\n\\nLife & Style\\n\\n\\n\\n\\nSociety\\n\\n\\n\\n\\nTechnology\\n\\n\\n\\n\\nVideos\\n\\n\\n\\n\\nPodcast\\n\\n\\n\\n\\nCities\\n\\n\\n\\n\\nStates\\n\\n\\n\\n\\nScience\\n\\n\\n\\n\\nShow More\\n\\n\\n\\n\\n\\n\\n\\nChennai\\n\\n\\n\\n\\nDelhi\\n\\n\\n\\n\\nBengaluru\\n\\n\\n\\n\\nHyderabad\\n\\n\\n\\n\\nMovies\\n\\n\\n\\n\\nFood\\n\\n\\n\\n\\nChildren\\n\\n\\n\\n\\nData\\n\\n\\n\\n\\nKochi\\n\\n\\n\\n\\nBooks\\n\\n\\n\\n\\nBrandhub\\n\\n\\n\\n\\nCoupons\\n\\n\\n\\n\\nEducation\\n\\n\\n\\n\\nTo enjoy additional benefitsFREE TRIALGIFT a Subscription\\nSubscribe\\nLOGIN\\nACCOUNT\\n\\nPREMIUM\\nShowcaseSubscribe to NewslettersCrossword+CONNECT WITH US\\nThe page you were looking for doesn't exist.\\n\\n404 Page not found\\n\\nThe link you have followed may be broken, or the page may have been removed.\\n\\nGo to Search\\n\\nSee our Top Picks from thehindu.com\\nEnvironment\\nOcean temperature hit record high in February 2024, EU scientists say\\nTelangana\\nHyderabad Metro Rail, now a Stanford University case study\\nAllegedly\\nSatire | India’s flexi-airports\\xa0a la\\xa0Jamnagar\\nSociety\\nPoetry under the olive trees of Palestine\\nMovies\\n‘True crime allows you to pretend you are an investigative journalist’ | Interview with the makers of Netflix’s ‘The Indrani Mukerjea Story’\\nWorld\\nWhat is the historic amendment that enshrined abortion access in France’s Constitution? | Explained\\nProfiles\\nG.N. Saibaba | Wheeling into freedom\\nEntertainment\\nKrystyna Pyszkova from Czech Republic crowned Miss World 2024\\nBooks\\nEnglish just ‘badly pronounced French’, says Paris linguist\\nScience\\nWhy India urgently needs a legal framework for genomics\\n\\nReturn to Home\\n\\nOR\\n\\nREPORT THIS PAGE\\n\\nThis page has been reported. Thanks!\\n\\n\\n\\nThe Hindu\\n\\n\\n\\nAbout Us\\n\\n\\n\\n\\nCode of Editorial Values\\n\\n\\n\\n\\nNews Archive\\n\\n\\n\\n\\nSitemap\\n\\n\\n\\n\\nPrint Subscription\\n\\n\\n\\n\\nDigital Subscription\\n\\n\\n\\n\\nSubscribe to Newsletters\\n\\n\\n\\n\\nRss Feeds\\n\\n\\n\\n\\nReaders Editor-Terms of Reference\\n\\n\\n\\n\\nAuthors & Contributors\\n\\n\\n\\n\\n\\nContact us\\n\\n\\n\\nContact Us\\n\\n\\n\\n\\nSocial Media\\n\\n\\n\\n\\nAdvertise With Us\\n\\n\\n\\n\\n\\nGroup News Sites\\n\\n\\n\\nBusiness Line\\n\\n\\n\\n\\nBL on Campus\\n\\n\\n\\n\\nSportstar\\n\\n\\n\\n\\nFrontline\\n\\n\\n\\n\\nஇந்து தமிழ் திசை\\n\\n\\n\\n\\nThe Hindu Centre\\n\\n\\n\\n\\nYoung World Club\\n\\n\\n\\n\\nThe Hindu ePaper\\n\\n\\n\\n\\nBusiness Line ePaper\\n\\n\\n\\n\\nCrossword + Free Games\\n\\n\\n\\n\\n\\n\\n\\n\\n\\nOther Products\\n\\n\\n\\nRoofandFloor\\n\\n\\n\\n\\nSTEP\\n\\n\\n\\n\\nImages\\n\\n\\n\\n\\nClassifieds - Print\\n\\n\\n\\n\\nBookstore & Special Publications\\n\\n\\n\\n\\n\\nPopular Sections\\n\\n\\n\\nElections\\n\\n\\n\\n\\nIsraeli–Palestinian conflict 2023\\n\\n\\n\\n\\nLatest News\\n\\n\\n\\n\\nNational News\\n\\n\\n\\n\\nInternational News\\n\\n\\n\\n\\nVideos\\n\\n\\n\\n\\nLife & Style\\n\\n\\n\\n\\nFood\\n\\n\\n\\n\\nPodcast\\n\\n\\n\\n\\nShowcase\\n\\n\\n\\n\\n\\n\\nOpinion\\n\\n\\n\\n\\nEditorial\\n\\n\\n\\n\\nColumns\\n\\n\\n\\n\\nComment\\n\\n\\n\\n\\nCartoon\\n\\n\\n\\n\\nLetters\\n\\n\\n\\n\\nInterview\\n\\n\\n\\n\\nLead\\n\\n\\n\\n\\n\\n\\n\\n\\n\\nBusiness\\n\\n\\n\\n\\nAgri-Business\\n\\n\\n\\n\\nIndustry\\n\\n\\n\\n\\nEconomy\\n\\n\\n\\n\\nMarkets\\n\\n\\n\\n\\nBudget\\n\\n\\n\\n\\n\\n\\nSport\\n\\n\\n\\n\\nCricket\\n\\n\\n\\n\\nFootball\\n\\n\\n\\n\\nHockey\\n\\n\\n\\n\\nTennis\\n\\n\\n\\n\\nAthletics\\n\\n\\n\\n\\nMotorsport\\n\\n\\n\\n\\nRaces\\n\\n\\n\\n\\nOther Sports\\n\\n\\n\\n\\n\\n\\nSci-Tech\\n\\n\\n\\n\\nScience\\n\\n\\n\\n\\nTechnology\\n\\n\\n\\n\\nHealth\\n\\n\\n\\n\\nAgriculture\\n\\n\\n\\n\\nEnvironment\\n\\n\\n\\n\\nGadgets\\n\\n\\n\\n\\nInternet\\n\\n\\n\\n\\n\\n\\n\\n\\n\\n\\nStates\\n\\n\\n\\n\\nAndhra Pradesh\\n\\n\\n\\n\\nKarnataka\\n\\n\\n\\n\\nKerala\\n\\n\\n\\n\\nTamil Nadu\\n\\n\\n\\n\\nTelangana\\n\\n\\n\\n\\nOther States\\n\\n\\n\\n\\n\\n\\nCities\\n\\n\\n\\n\\nBengaluru\\n\\n\\n\\n\\nChennai\\n\\n\\n\\n\\nCoimbatore\\n\\n\\n\\n\\nDelhi\\n\\n\\n\\n\\nHyderabad\\n\\n\\n\\n\\nKochi\\n\\n\\n\\n\\nKolkata\\n\\n\\n\\n\\nKozhikode\\n\\n\\n\\n\\nMadurai\\n\\n\\n\\n\\nMangaluru\\n\\n\\n\\n\\nMumbai\\n\\n\\n\\n\\nPuducherry\\n\\n\\n\\n\\nThiruvananthapuram\\n\\n\\n\\n\\nTiruchirapalli\\n\\n\\n\\n\\nVijayawada\\n\\n\\n\\n\\nVisakhapatnam\\n\\n\\n\\n\\n\\n\\nTrending on The Hindu\\n2024 elections in india\\n\\nVisual Stories\\n\\nLok Sabha General elections 2024\\n\\nIndira Gandhi’s 1979 Thanjavur By Election\\n\\nPM Modi Kashmir visit\\n\\nRameshwaram cafe blast suspect sketches\\n\\nShaitaan movie review\\n\\nGaami Movie review\\n\\nDamsel movie review\\n\\nAadhar\\nTrending on Group sites\\nStock Maket Live Today\\n\\nIndia vs England LIVE 5th Test\\n\\nUP’s economy surpassed TN’s? - PTR\\n\\nStock Market Today\\n\\nGold Rate Today\\n\\nSilver Rate Today\\n\\nStocks to buy\\n\\nFootball News\\n\\nPolitics News\\n\\nFrontline Current Issue\\n\\n\\n\\nTerms of Use\\n\\n\\n\\n\\nPrivacy Policy\\n\\n\\n \\nCopyright© 2024, THG PUBLISHING PVT LTD. or its affiliated companies. All rights reserved.BACK TO TOPSign in to unlock member-only benefits!Access 10 free stories every monthSave stories to read laterAccess to comment on every storySign-up/manage your newsletter subscriptions with a single clickGet notified by email for early access to discounts & offers on our products✕Looks like you are already logged in from more than 3 devices!To continue logging in, remove at least one device from the below listLog outLog Out from all devicesTerms & conditions\\xa0\\xa0|\\xa0\\xa0Institutional Subscriber\\n\", metadata={'source': 'https://www.thehindu.com/sport/abc/', 'title': '\\n\\tPage Not Found\\n', 'description': 'Stay Up To Date With The Latest Sports News &amp; Updates From The World Of Cricket, Football, Tennis, Badminton &amp; Much More At The Hindu', 'language': 'en'})]"
      ]
     },
     "execution_count": 20,
     "metadata": {},
     "output_type": "execute_result"
    }
   ],
   "source": [
    "docs"
   ]
  },
  {
   "cell_type": "code",
   "execution_count": 21,
   "id": "2a389e7d",
   "metadata": {},
   "outputs": [],
   "source": [
    "from langchain_openai import OpenAIEmbeddings\n",
    "\n",
    "embeddings = OpenAIEmbeddings(openai_api_key=openai_api_key)"
   ]
  },
  {
   "cell_type": "code",
   "execution_count": 22,
   "id": "8c3c8f71",
   "metadata": {},
   "outputs": [
    {
     "name": "stdout",
     "output_type": "stream",
     "text": [
      "Requirement already satisfied: faiss-cpu in d:\\ai\\software\\anaconda3\\lib\\site-packages (1.8.0)\n",
      "Requirement already satisfied: numpy in d:\\ai\\software\\anaconda3\\lib\\site-packages (from faiss-cpu) (1.24.3)\n",
      "Note: you may need to restart the kernel to use updated packages.\n"
     ]
    }
   ],
   "source": [
    "pip install faiss-cpu"
   ]
  },
  {
   "cell_type": "code",
   "execution_count": 23,
   "id": "00016dc7",
   "metadata": {},
   "outputs": [],
   "source": [
    "from langchain_community.vectorstores import FAISS\n",
    "from langchain_text_splitters import RecursiveCharacterTextSplitter\n",
    "\n",
    "\n",
    "text_splitter = RecursiveCharacterTextSplitter()\n",
    "documents = text_splitter.split_documents(docs)\n",
    "vector = FAISS.from_documents(documents, embeddings)"
   ]
  },
  {
   "cell_type": "code",
   "execution_count": 24,
   "id": "6292ff00",
   "metadata": {},
   "outputs": [],
   "source": [
    "from langchain.chains.combine_documents import create_stuff_documents_chain\n",
    "\n",
    "prompt = ChatPromptTemplate.from_template(\"\"\"Summarize the contents :\n",
    "\n",
    "{context}\n",
    "\n",
    "Question: {input} \n",
    "\n",
    "List down by Bullet points\"\"\")\n",
    "\n",
    "document_chain = create_stuff_documents_chain(llm, prompt)"
   ]
  },
  {
   "cell_type": "code",
   "execution_count": 25,
   "id": "4ec373fb",
   "metadata": {},
   "outputs": [],
   "source": [
    "from langchain.chains import create_retrieval_chain\n",
    "\n",
    "retriever = vector.as_retriever()\n",
    "retrieval_chain = create_retrieval_chain(retriever, document_chain)"
   ]
  },
  {
   "cell_type": "code",
   "execution_count": 26,
   "id": "f9469e21",
   "metadata": {},
   "outputs": [
    {
     "name": "stdout",
     "output_type": "stream",
     "text": [
      "- PM Modi inaugurated development projects worth over ₹34,000 crore in Uttar Pradesh\n",
      "- PM Modi inaugurated 15 airport projects, including Delhi's Terminal 1\n",
      "- India signed a free trade agreement with the European Free Trade Association\n"
     ]
    }
   ],
   "source": [
    "response = retrieval_chain.invoke({\"input\": \"what are the latest action by Modi\"})\n",
    "print(response[\"answer\"])\n"
   ]
  },
  {
   "cell_type": "code",
   "execution_count": 27,
   "id": "54700939",
   "metadata": {},
   "outputs": [
    {
     "name": "stdout",
     "output_type": "stream",
     "text": [
      "- Sri Lanka wins T20 series against Bangladesh\n",
      "- Dipa finishes fourth in Baku Apparatus World Cup\n",
      "- India wins Test series against England\n",
      "- Graeme Swann comments on Rohit Sharma's captaincy\n",
      "- India consolidates top spot in World Test Championship\n",
      "- Dravid emphasizes the importance of teamwork in Test cricket\n"
     ]
    }
   ],
   "source": [
    "response = retrieval_chain.invoke({\"context\" : \"Sports\",\"input\": \"Provide glimpse on cricket update?\"})\n",
    "\n",
    "\n",
    "print(response[\"answer\"])\n"
   ]
  },
  {
   "cell_type": "code",
   "execution_count": 28,
   "id": "8b018cb7",
   "metadata": {},
   "outputs": [
    {
     "name": "stdout",
     "output_type": "stream",
     "text": [
      "- La Liga: Barcelona wins 1-0 over Mallorca, Real Madrid qualifies for quarterfinals in Champions League\n",
      "- ISL: Chennaiyin FC, Mohun Bagan, and Bengaluru in action, Services wins Santosh Trophy\n",
      "- Premier League: Liverpool vs Man City for title, Arsenal wins 6-0 over Sheffield United\n",
      "- Other sports: Sri Lanka wins T20 series against Bangladesh, Dipa finishes fourth in gymnastics, Dravid's advice to young cricketers\n"
     ]
    }
   ],
   "source": [
    "response = retrieval_chain.invoke({\"context\" : \"Sports\",\"input\": \"Provide glimpse on different Sports llike football,hockey, etc?\"})\n",
    "\n",
    "\n",
    "print(response[\"answer\"])"
   ]
  },
  {
   "cell_type": "code",
   "execution_count": null,
   "id": "9fa42a3a",
   "metadata": {},
   "outputs": [],
   "source": []
  }
 ],
 "metadata": {
  "kernelspec": {
   "display_name": "Python 3 (ipykernel)",
   "language": "python",
   "name": "python3"
  },
  "language_info": {
   "codemirror_mode": {
    "name": "ipython",
    "version": 3
   },
   "file_extension": ".py",
   "mimetype": "text/x-python",
   "name": "python",
   "nbconvert_exporter": "python",
   "pygments_lexer": "ipython3",
   "version": "3.11.4"
  }
 },
 "nbformat": 4,
 "nbformat_minor": 5
}
